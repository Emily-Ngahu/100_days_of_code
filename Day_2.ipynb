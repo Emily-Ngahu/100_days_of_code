{
 "cells": [
  {
   "cell_type": "code",
   "execution_count": 6,
   "id": "0c072eca",
   "metadata": {},
   "outputs": [
    {
     "data": {
      "text/plain": [
       "'o'"
      ]
     },
     "execution_count": 6,
     "metadata": {},
     "output_type": "execute_result"
    }
   ],
   "source": [
    "string = 'Hello'\n",
    "string[4]"
   ]
  },
  {
   "cell_type": "code",
   "execution_count": 7,
   "id": "f41efec7",
   "metadata": {},
   "outputs": [
    {
     "name": "stdout",
     "output_type": "stream",
     "text": [
      "123456789\n"
     ]
    }
   ],
   "source": [
    "print(123_456_789)"
   ]
  },
  {
   "cell_type": "code",
   "execution_count": 15,
   "id": "40a357fb",
   "metadata": {},
   "outputs": [
    {
     "name": "stdout",
     "output_type": "stream",
     "text": [
      "What is your name?Ruguru\n",
      "Your name has 6 characters\n"
     ]
    }
   ],
   "source": [
    "name_characters = str(len(input('What is your name?')))\n",
    "type(name_characters)\n",
    "print('Your name has' + ' ' + name_characters + ' ' + 'characters')"
   ]
  },
  {
   "cell_type": "code",
   "execution_count": 25,
   "id": "d8446645",
   "metadata": {},
   "outputs": [
    {
     "name": "stdout",
     "output_type": "stream",
     "text": [
      "45\n",
      "9\n"
     ]
    }
   ],
   "source": [
    "two_numbers = input()  # Take input as a string \n",
    "a = int(two_numbers[0])  # Convert the first part to an integer\n",
    "b = int(two_numbers[1])  # Convert the second part to an integer\n",
    "print(a + b)\n"
   ]
  },
  {
   "cell_type": "code",
   "execution_count": 27,
   "id": "2150af7e",
   "metadata": {},
   "outputs": [
    {
     "name": "stdout",
     "output_type": "stream",
     "text": [
      "6\n"
     ]
    }
   ],
   "source": [
    "score = 5\n",
    "score +=1 \n",
    "print(score)"
   ]
  },
  {
   "cell_type": "code",
   "execution_count": 28,
   "id": "64293b0f",
   "metadata": {},
   "outputs": [
    {
     "name": "stdout",
     "output_type": "stream",
     "text": [
      "12\n"
     ]
    }
   ],
   "source": [
    "score *= 2\n",
    "print(score)"
   ]
  },
  {
   "cell_type": "code",
   "execution_count": 29,
   "id": "6b8ce4ac",
   "metadata": {},
   "outputs": [
    {
     "name": "stdout",
     "output_type": "stream",
     "text": [
      "Your score is 1, your height is 1.56, and your status is True\n"
     ]
    }
   ],
   "source": [
    "# f string \n",
    "score = 1 \n",
    "height = 1.56\n",
    "win = True\n",
    "print(f\"Your score is {score}, your height is {height}, and your status is {win}\")"
   ]
  },
  {
   "cell_type": "code",
   "execution_count": 32,
   "id": "6c3d7919",
   "metadata": {},
   "outputs": [
    {
     "name": "stdout",
     "output_type": "stream",
     "text": [
      "23\n",
      "You have 3484 weeks left\n"
     ]
    }
   ],
   "source": [
    "age = input()\n",
    "years_left = 90 - int(age)\n",
    "weeks_left = years_left * 52\n",
    "print(f\"You have {weeks_left} weeks left\")"
   ]
  },
  {
   "cell_type": "code",
   "execution_count": 33,
   "id": "c5443354",
   "metadata": {},
   "outputs": [
    {
     "name": "stdout",
     "output_type": "stream",
     "text": [
      "6.0\n"
     ]
    }
   ],
   "source": [
    "print(6+4/2-(1*2))"
   ]
  },
  {
   "cell_type": "markdown",
   "id": "82ba5bc3",
   "metadata": {},
   "source": [
    "Tip calculator "
   ]
  },
  {
   "cell_type": "code",
   "execution_count": 37,
   "id": "71fd7b2f",
   "metadata": {},
   "outputs": [
    {
     "name": "stdout",
     "output_type": "stream",
     "text": [
      "Welcome to the tip calculator!\n",
      "What is the total bill?3456\n",
      "What percentage of the bill would you like to give as the tip?10\n",
      "How many people to split the bill?5\n",
      "Each person should pay 760.3199999999999 dolars\n"
     ]
    }
   ],
   "source": [
    "print(\"Welcome to the tip calculator!\")\n",
    "total_bill = int(input(\"What is the total bill?\"))\n",
    "tip = int(input(\"What percentage of the bill would you like to give as the tip?\"))\n",
    "people_to_split_bill = int(input(\"How many people to split the bill?\"))\n",
    "each_person_pay = (total_bill + (tip/100)*total_bill) / people_to_split_bill \n",
    "print(f\"Each person should pay {each_person_pay} dolars\")"
   ]
  },
  {
   "cell_type": "code",
   "execution_count": null,
   "id": "9c45d7b6",
   "metadata": {},
   "outputs": [],
   "source": []
  },
  {
   "cell_type": "code",
   "execution_count": null,
   "id": "0226e1d5",
   "metadata": {},
   "outputs": [],
   "source": []
  }
 ],
 "metadata": {
  "kernelspec": {
   "display_name": "Python 3 (ipykernel)",
   "language": "python",
   "name": "python3"
  },
  "language_info": {
   "codemirror_mode": {
    "name": "ipython",
    "version": 3
   },
   "file_extension": ".py",
   "mimetype": "text/x-python",
   "name": "python",
   "nbconvert_exporter": "python",
   "pygments_lexer": "ipython3",
   "version": "3.11.5"
  }
 },
 "nbformat": 4,
 "nbformat_minor": 5
}
