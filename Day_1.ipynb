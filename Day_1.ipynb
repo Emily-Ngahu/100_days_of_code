{
 "cells": [
  {
   "cell_type": "code",
   "execution_count": 1,
   "id": "6a2ccbec",
   "metadata": {},
   "outputs": [
    {
     "name": "stdout",
     "output_type": "stream",
     "text": [
      "Hello Angela\n"
     ]
    }
   ],
   "source": [
    "print(\"Hello\" + \" \" + \"Angela\")"
   ]
  },
  {
   "cell_type": "code",
   "execution_count": 2,
   "id": "9cca4859",
   "metadata": {},
   "outputs": [
    {
     "name": "stdout",
     "output_type": "stream",
     "text": [
      "What is your name?Emily\n"
     ]
    },
    {
     "data": {
      "text/plain": [
       "'Emily'"
      ]
     },
     "execution_count": 2,
     "metadata": {},
     "output_type": "execute_result"
    }
   ],
   "source": [
    "input('What is your name?')"
   ]
  },
  {
   "cell_type": "code",
   "execution_count": 5,
   "id": "9b8f8ac4",
   "metadata": {},
   "outputs": [
    {
     "name": "stdout",
     "output_type": "stream",
     "text": [
      "What is your name?Emily\n",
      "Hello Emily\n"
     ]
    }
   ],
   "source": [
    "print('Hello' + ' ' + input('What is your name?'))"
   ]
  },
  {
   "cell_type": "code",
   "execution_count": 7,
   "id": "af749e9d",
   "metadata": {},
   "outputs": [
    {
     "name": "stdout",
     "output_type": "stream",
     "text": [
      "Which planet do you live in?Earth\n",
      "HelloEarth\n"
     ]
    }
   ],
   "source": [
    "print('Hello' + input('Which planet do you live in?'))"
   ]
  },
  {
   "cell_type": "code",
   "execution_count": 8,
   "id": "593cdfea",
   "metadata": {},
   "outputs": [
    {
     "name": "stdout",
     "output_type": "stream",
     "text": [
      "There is5till mid night\n"
     ]
    }
   ],
   "source": [
    "time = \"5\"\n",
    "print(\"There is\" + time + 'till mid night')"
   ]
  },
  {
   "cell_type": "markdown",
   "id": "c0ea0c0f",
   "metadata": {},
   "source": [
    "Band name generator "
   ]
  },
  {
   "cell_type": "code",
   "execution_count": 14,
   "id": "3aa94ab4",
   "metadata": {},
   "outputs": [
    {
     "name": "stdout",
     "output_type": "stream",
     "text": [
      "Welcome to the band name generator!\n",
      "Which city did you grow up in?\n",
      "Nairobi\n",
      "What is/was the name of your pet?\n",
      "Mels\n",
      "Your band name is: Nairobi Mels\n"
     ]
    }
   ],
   "source": [
    "print(\"Welcome to the band name generator!\")\n",
    "city = input(\"Which city did you grow up in?\\n\")\n",
    "pet_name = input(\"What is/was the name of your pet?\\n\")\n",
    "print('Your band name is: ' + city + ' ' + pet_name)"
   ]
  }
 ],
 "metadata": {
  "kernelspec": {
   "display_name": "Python 3 (ipykernel)",
   "language": "python",
   "name": "python3"
  },
  "language_info": {
   "codemirror_mode": {
    "name": "ipython",
    "version": 3
   },
   "file_extension": ".py",
   "mimetype": "text/x-python",
   "name": "python",
   "nbconvert_exporter": "python",
   "pygments_lexer": "ipython3",
   "version": "3.11.5"
  }
 },
 "nbformat": 4,
 "nbformat_minor": 5
}
