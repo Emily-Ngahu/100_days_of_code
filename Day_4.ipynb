{
 "cells": [
  {
   "cell_type": "code",
   "execution_count": 1,
   "id": "3a7cb52f",
   "metadata": {},
   "outputs": [],
   "source": [
    "import random"
   ]
  },
  {
   "cell_type": "code",
   "execution_count": 2,
   "id": "637b244c",
   "metadata": {},
   "outputs": [],
   "source": [
    "random?"
   ]
  },
  {
   "cell_type": "code",
   "execution_count": 13,
   "id": "7ab25b92",
   "metadata": {},
   "outputs": [
    {
     "data": {
      "text/plain": [
       "2"
      ]
     },
     "execution_count": 13,
     "metadata": {},
     "output_type": "execute_result"
    }
   ],
   "source": [
    "random.randint(1,10)"
   ]
  },
  {
   "cell_type": "code",
   "execution_count": 14,
   "id": "af2588ba",
   "metadata": {},
   "outputs": [
    {
     "data": {
      "text/plain": [
       "0.6441947227144766"
      ]
     },
     "execution_count": 14,
     "metadata": {},
     "output_type": "execute_result"
    }
   ],
   "source": [
    "random.random()"
   ]
  },
  {
   "cell_type": "code",
   "execution_count": 20,
   "id": "ea0c925a",
   "metadata": {},
   "outputs": [
    {
     "name": "stdout",
     "output_type": "stream",
     "text": [
      "0.4548482721361955\n",
      "2.2742413606809775\n"
     ]
    }
   ],
   "source": [
    "random_float = random.random()\n",
    "print(random_float)\n",
    "random_float *= 5\n",
    "print(random_float)"
   ]
  },
  {
   "cell_type": "code",
   "execution_count": 27,
   "id": "404231fc",
   "metadata": {},
   "outputs": [
    {
     "name": "stdout",
     "output_type": "stream",
     "text": [
      "Tails\n"
     ]
    }
   ],
   "source": [
    "random_number = random.randint(0,1)\n",
    "if random_number == 0:\n",
    "    print(\"Tails\")\n",
    "else:\n",
    "    print(\"Heads\")"
   ]
  },
  {
   "cell_type": "code",
   "execution_count": 30,
   "id": "37c62dec",
   "metadata": {},
   "outputs": [
    {
     "name": "stdout",
     "output_type": "stream",
     "text": [
      "list of name\"Angela\", \"Mary\", \"Martha\", \"Joy\"\n"
     ]
    },
    {
     "data": {
      "text/plain": [
       "'e'"
      ]
     },
     "execution_count": 30,
     "metadata": {},
     "output_type": "execute_result"
    }
   ],
   "source": [
    "# The code above converts the input into an array seperating\n",
    "names = input(\"list of name\")\n",
    "random_number = random.randint(0,5)\n",
    "random_name =  names[random_number]\n",
    "random_name"
   ]
  },
  {
   "cell_type": "code",
   "execution_count": 33,
   "id": "5533d3b1",
   "metadata": {},
   "outputs": [
    {
     "name": "stdout",
     "output_type": "stream",
     "text": [
      "Enter a list of names, separated by commas: Angela, Ben, Jenny, Michael, Chloe\n",
      "Chloe\n"
     ]
    }
   ],
   "source": [
    "import random\n",
    "\n",
    "# Prompt the user to input a list of names, separated by commas\n",
    "names_input = input(\"Enter a list of names, separated by commas: \")\n",
    "\n",
    "# Split the input string into a list of names\n",
    "names = names_input.split(',')\n",
    "\n",
    "# Strip any leading or trailing whitespace from each name\n",
    "names = [name.strip() for name in names]\n",
    "\n",
    "# Generate a random index within the range of the list\n",
    "random_number = random.randint(0, len(names) - 1)\n",
    "\n",
    "# Select the random name\n",
    "random_name = names[random_number]\n",
    "\n",
    "# Print the random name\n",
    "print(random_name)\n"
   ]
  },
  {
   "cell_type": "code",
   "execution_count": 62,
   "id": "6f2e99c4",
   "metadata": {},
   "outputs": [
    {
     "name": "stdout",
     "output_type": "stream",
     "text": [
      "Hiding your treasure! X marks the spot.\n",
      "Where do you want to put the treasure?B3\n",
      "['⬜️', '️⬜️', '️⬜️']\n",
      "['⬜️', '⬜️', '️⬜️']\n",
      "['⬜️️', 'X', '⬜️️']\n"
     ]
    }
   ],
   "source": [
    "line1 = [\"⬜️\",\"️⬜️\",\"️⬜️\"]\n",
    "line2 = [\"⬜️\",\"⬜️\",\"️⬜️\"]\n",
    "line3 = [\"⬜️️\",\"⬜️️\",\"⬜️️\"]\n",
    "map = [line1, line2, line3]\n",
    "print(\"Hiding your treasure! X marks the spot.\")\n",
    "\n",
    "position = input(\"Where do you want to put the treasure?\") #Should take A1,A2,A3,B1,B2,B3,C1,C2 OR C3\n",
    "#Take hold of the letter \n",
    "letter = position[0].lower()\n",
    "\n",
    "#This line defines a list named abc containing the lowercase letters \"a\", \"b\", and \"c\". \n",
    "#This list will be used to convert the letter part of the input into a corresponding index.\n",
    "abc = [\"a\", \"b\", \"c\"]\n",
    "\n",
    "#This line finds the index of the letter in the abc list\n",
    "letter_index = abc.index(letter)\n",
    "\n",
    "#Take shold of the number \n",
    "number_index = int(position[1]) - 1\n",
    "\n",
    "#Exracts from the map\n",
    "map[number_index][letter_index] = \"X\"\n",
    "\n",
    "print(f\"{line1}\\n{line2}\\n{line3}\")"
   ]
  },
  {
   "cell_type": "markdown",
   "id": "fde9f0f0",
   "metadata": {},
   "source": [
    "# Rock paper scissors game with computer"
   ]
  },
  {
   "cell_type": "code",
   "execution_count": 101,
   "id": "e1f9694c",
   "metadata": {},
   "outputs": [
    {
     "name": "stdout",
     "output_type": "stream",
     "text": [
      "What do you choose?\n",
      " 0 for rock, 1 for paper, 2 for scissors\n",
      "2\n",
      "You chose : 2\n",
      "\n",
      "    _______\n",
      "---'   ____)____\n",
      "          ______)\n",
      "       __________)\n",
      "      (____)\n",
      "---.__(___)\n",
      "\n",
      "The computer chose : 1\n",
      "\n",
      "    _______\n",
      "---'   ____)____\n",
      "          ______)\n",
      "          _______)\n",
      "         _______)\n",
      "---.__________)\n",
      "\n",
      "You win!\n"
     ]
    }
   ],
   "source": [
    "rock = '''\n",
    "    _______\n",
    "---'   ____)\n",
    "      (_____)\n",
    "      (_____)\n",
    "      (____)\n",
    "---.__(___)\n",
    "'''\n",
    "\n",
    "paper = '''\n",
    "    _______\n",
    "---'   ____)____\n",
    "          ______)\n",
    "          _______)\n",
    "         _______)\n",
    "---.__________)\n",
    "'''\n",
    "\n",
    "scissors = '''\n",
    "    _______\n",
    "---'   ____)____\n",
    "          ______)\n",
    "       __________)\n",
    "      (____)\n",
    "---.__(___)\n",
    "'''\n",
    "\n",
    "user_input = int(input(\"What do you choose?\\n 0 for rock, 1 for paper, 2 for scissors\\n\"))\n",
    "print(f\"You chose : {user_input}\")\n",
    "\n",
    "\n",
    "if user_input == 0:\n",
    "    print(rock)\n",
    "elif user_input == 1:\n",
    "    print(paper)\n",
    "else:\n",
    "    print(scissors)\n",
    "    \n",
    "computers_choice = random.randint(0,2)\n",
    "print(f\"The computer chose : {computers_choice}\")\n",
    "\n",
    "if computers_choice == 0:\n",
    "    print(rock)\n",
    "elif computers_choice == 1:\n",
    "    print(paper)\n",
    "else:\n",
    "    print(scissors)\n",
    "    \n",
    "#Rock wins against scissors \n",
    "#Scissors wins against paper \n",
    "#Paper wins against rock \n",
    "\n",
    "if user_input == computers_choice:\n",
    "    print('This is a draw!')\n",
    "elif user_input == 0 and computers_choice ==2:\n",
    "    print(\"You win!\")\n",
    "elif user_input == 2 and computers_choice == 1:\n",
    "    print(\"You win!\")\n",
    "elif user_input == 1 and computer_choice == 0:\n",
    "    print(\"You win!\")\n",
    "else: \n",
    "    print(\"Opps ,You lost.The computer wins!!\")"
   ]
  }
 ],
 "metadata": {
  "kernelspec": {
   "display_name": "Python 3 (ipykernel)",
   "language": "python",
   "name": "python3"
  },
  "language_info": {
   "codemirror_mode": {
    "name": "ipython",
    "version": 3
   },
   "file_extension": ".py",
   "mimetype": "text/x-python",
   "name": "python",
   "nbconvert_exporter": "python",
   "pygments_lexer": "ipython3",
   "version": "3.11.5"
  }
 },
 "nbformat": 4,
 "nbformat_minor": 5
}
