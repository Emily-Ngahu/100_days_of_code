{
 "cells": [
  {
   "cell_type": "code",
   "execution_count": 4,
   "id": "61b76f05",
   "metadata": {},
   "outputs": [
    {
     "name": "stdout",
     "output_type": "stream",
     "text": [
      "37\n",
      "This is an odd number\n"
     ]
    }
   ],
   "source": [
    "#even or odd numbe r\n",
    "number = int(input())\n",
    "modulus = number%2\n",
    "if modulus==0:\n",
    "    print(\"This is an even number\")\n",
    "else:\n",
    "    print(\"This is an odd number\")"
   ]
  },
  {
   "cell_type": "markdown",
   "id": "b462e144",
   "metadata": {},
   "source": [
    "BMI calculator "
   ]
  },
  {
   "cell_type": "code",
   "execution_count": 10,
   "id": "ec9977e4",
   "metadata": {},
   "outputs": [
    {
     "name": "stdout",
     "output_type": "stream",
     "text": [
      "What is your height?(in metres)1.7\n",
      "What is your weight?(in kgs)105\n",
      "Your BMI is 36.33217993079585, you are clinically obese\n"
     ]
    }
   ],
   "source": [
    "height = float(input(\"What is your height?(in metres)\"))\n",
    "weight = float(input(\"What is your weight?(in kgs)\"))\n",
    "BMI = weight / (height**2)\n",
    "if BMI < 18.5:\n",
    "    print(f\"Your BMI is {BMI}, you are underweight\")\n",
    "elif BMI <=25:\n",
    "    print(f\"Your BMI is {BMI}, you are normal weight\")\n",
    "elif BMI <=30:\n",
    "    print(f\"Your BMI is {BMI}, you are slightly overweight\")\n",
    "elif BMI <= 35:\n",
    "    print(f\"Your BMI is {BMI}, you are obese\")\n",
    "else:\n",
    "    print(f\"Your BMI is {BMI}, you are clinically obese\")\n",
    "    "
   ]
  },
  {
   "cell_type": "markdown",
   "id": "9d5ad2e1",
   "metadata": {},
   "source": [
    "### Leap year\n",
    "An year is  a leap yr if: \n",
    "Year is divisible by 4 with no remeinder\n",
    "Exept year is divisible by 100 with no remeinder \n",
    "Unless yr is divisible by 400 with no remeinder"
   ]
  },
  {
   "cell_type": "code",
   "execution_count": 21,
   "id": "f1c63e31",
   "metadata": {},
   "outputs": [
    {
     "name": "stdout",
     "output_type": "stream",
     "text": [
      "Which year do you want to check?2024\n",
      "2024 is a leap year\n"
     ]
    }
   ],
   "source": [
    "year = int(input(\"Which year do you want to check?\"))\n",
    "\n",
    "if (year % 4 == 0 and year % 100 != 0) or (year % 400 == 0):\n",
    "    print(f\"{year} is a leap year\")\n",
    "else:\n",
    "    print(f\"{year} is not a leap year\")\n"
   ]
  },
  {
   "cell_type": "markdown",
   "id": "50e4b592",
   "metadata": {},
   "source": [
    "### Pizza order program"
   ]
  },
  {
   "cell_type": "code",
   "execution_count": 30,
   "id": "081832d3",
   "metadata": {},
   "outputs": [
    {
     "name": "stdout",
     "output_type": "stream",
     "text": [
      "What size of pizza do you want? S, M or L\n",
      "L\n",
      "Do you want additional peporoni? Y or N\n",
      "Y\n",
      "Do you want any extra cheese? Y or N\n",
      "Y\n",
      "Your total bill is 29\n"
     ]
    }
   ],
   "source": [
    "size = input(\"What size of pizza do you want? S, M or L\\n\")\n",
    "peporoni = input(\"Do you want additional peporoni? Y or N\\n\")\n",
    "extra_cheese = input(\"Do you want any extra cheese? Y or N\\n\")\n",
    "\n",
    "bill = 0 \n",
    "if size == \"S\":\n",
    "    bill = 15\n",
    "    if peporoni == \"Y\":\n",
    "        bill+=2\n",
    "    if extra_cheese == \"Y\":\n",
    "            bill += 1\n",
    "elif size == \"M\":\n",
    "    bill = 20\n",
    "    if peporoni == \"Y\":\n",
    "        bill+=3\n",
    "    if extra_cheese == \"Y\":\n",
    "            bill += 1\n",
    "elif size == \"L\":\n",
    "    bill = 25\n",
    "    if peporoni == \"Y\":\n",
    "        bill+=3\n",
    "    if extra_cheese == \"Y\":\n",
    "            bill += 1\n",
    "print( f\"Your total bill is {bill}\")"
   ]
  },
  {
   "cell_type": "markdown",
   "id": "49f88f7e",
   "metadata": {},
   "source": [
    "## Love calculator "
   ]
  },
  {
   "cell_type": "code",
   "execution_count": 54,
   "id": "9f1372ee",
   "metadata": {},
   "outputs": [
    {
     "name": "stdout",
     "output_type": "stream",
     "text": [
      "What is your name?Angella\n",
      "What is your spouses name?Pets\n",
      "angellapets\n",
      "Your score is 34.\n"
     ]
    }
   ],
   "source": [
    "name1 = input(\"What is your name?\")\n",
    "name2 = input ('What is your spouses name?')\n",
    "combined_name = (name1 + name2).lower()\n",
    "print(combined_name)\n",
    "\n",
    "t = combined_name.count('t')\n",
    "r = combined_name.count('r')\n",
    "u = combined_name.count('u')\n",
    "e = combined_name.count('e')\n",
    "first_digit = t + r + u + e\n",
    " \n",
    "l = combined_name.count('l')\n",
    "o = combined_name.count('o')\n",
    "v = combined_name.count('v')\n",
    "e = combined_name.count('e')\n",
    "second_digit = l + o + v + e\n",
    "\n",
    "two_digit_number = int((f\"{first_digit}{second_digit}\"))\n",
    "\n",
    "if (two_digit_number < 10) or (two_digit_number > 90):\n",
    "    print(f\"Your score is {score}, you go together like coke and mentos.\")\n",
    "elif (two_digit_number >= 40) and (two_digit_number <= 50):\n",
    "    print(f\"Your score is {two_digit_number}, you are alright together.\")\n",
    "else:\n",
    "    print(f\"Your score is {two_digit_number}.\")"
   ]
  },
  {
   "cell_type": "markdown",
   "id": "c5c4030a",
   "metadata": {},
   "source": [
    "## Treasure island"
   ]
  },
  {
   "cell_type": "code",
   "execution_count": 81,
   "id": "cab08251",
   "metadata": {},
   "outputs": [
    {
     "name": "stdout",
     "output_type": "stream",
     "text": [
      "Welcome to  the treasure island!!\n",
      "Your mission is to find the treasure.\n",
      "Which road do you want to follow? left or right\n",
      "left\n",
      "You got to the lake island!\n",
      "Would you like to swim or wait for a boat?\n",
      "swim\n",
      "Opps,there are crocodiles in the lake! game over!\n"
     ]
    }
   ],
   "source": [
    "print(\"Welcome to  the treasure island!!\\nYour mission is to find the treasure.\")\n",
    "road = input(\"Which road do you want to follow? left or right\\n\").lower()\n",
    "\n",
    "if road == \"left\":\n",
    "    print(\"You got to the lake island!\")\n",
    "    lake = input(\"Would you like to swim or wait for a boat?\\n\").lower()\n",
    "    \n",
    "    if lake == 'wait for a boat':\n",
    "        print(\"Great! you managened to cross the lake\")\n",
    "        door = input(\"Which door would you like to open? red , yellow or blue\\n\").lower()\n",
    "        \n",
    "        if door == 'yellow':\n",
    "            print(\"Congratulations!! You found the treasure\")\n",
    "        else:\n",
    "            print(\"Opps ,game over!\")\n",
    "    else:\n",
    "        print(\"Opps,there are crocodiles in the lake! game over!\")\n",
    "    \n",
    "else:\n",
    "    print(\"Opps, wrong turn ! game over!\")\n",
    "    "
   ]
  },
  {
   "cell_type": "code",
   "execution_count": null,
   "id": "18da2bf1",
   "metadata": {},
   "outputs": [],
   "source": []
  }
 ],
 "metadata": {
  "kernelspec": {
   "display_name": "Python 3 (ipykernel)",
   "language": "python",
   "name": "python3"
  },
  "language_info": {
   "codemirror_mode": {
    "name": "ipython",
    "version": 3
   },
   "file_extension": ".py",
   "mimetype": "text/x-python",
   "name": "python",
   "nbconvert_exporter": "python",
   "pygments_lexer": "ipython3",
   "version": "3.11.5"
  }
 },
 "nbformat": 4,
 "nbformat_minor": 5
}
