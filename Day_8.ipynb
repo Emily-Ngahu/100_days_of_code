{
 "cells": [
  {
   "cell_type": "code",
   "execution_count": 18,
   "id": "2ed8c7ad",
   "metadata": {},
   "outputs": [],
   "source": [
    "def greet(name):\n",
    "    print(f\"Hello {name}\")"
   ]
  },
  {
   "cell_type": "code",
   "execution_count": 21,
   "id": "ec7002c1",
   "metadata": {},
   "outputs": [
    {
     "name": "stdout",
     "output_type": "stream",
     "text": [
      "Hello Emily\n"
     ]
    }
   ],
   "source": [
    "greet(\"Emily\")"
   ]
  },
  {
   "cell_type": "code",
   "execution_count": 25,
   "id": "fb9f0f35",
   "metadata": {},
   "outputs": [],
   "source": [
    "def greet_with(name,location):\n",
    "    print(f\"Hello {name}\")\n",
    "    print(f\"Really?,You live in {location}?\")"
   ]
  },
  {
   "cell_type": "code",
   "execution_count": 26,
   "id": "bb73d3df",
   "metadata": {},
   "outputs": [
    {
     "name": "stdout",
     "output_type": "stream",
     "text": [
      "Hello Emily\n",
      "Really?,You live in Nairobi?\n"
     ]
    }
   ],
   "source": [
    "#Using positional args \n",
    "greet_with(\"Emily\",\"Nairobi\")"
   ]
  },
  {
   "cell_type": "code",
   "execution_count": 27,
   "id": "49f0ad58",
   "metadata": {},
   "outputs": [
    {
     "name": "stdout",
     "output_type": "stream",
     "text": [
      "Hello Emily\n",
      "Really?,You live in Nairobi?\n"
     ]
    }
   ],
   "source": [
    "#Using keyword args\n",
    "greet_with(name =\"Emily\",location =\"Nairobi\")"
   ]
  },
  {
   "cell_type": "code",
   "execution_count": 28,
   "id": "94a51360",
   "metadata": {},
   "outputs": [
    {
     "name": "stdout",
     "output_type": "stream",
     "text": [
      "Hello Emily\n",
      "Really?,You live in Nairobi?\n"
     ]
    }
   ],
   "source": [
    "#Using keyword args\n",
    "greet_with(location =\"Nairobi\",name =\"Emily\")"
   ]
  },
  {
   "cell_type": "code",
   "execution_count": 37,
   "id": "c9e0960b",
   "metadata": {},
   "outputs": [
    {
     "name": "stdout",
     "output_type": "stream",
     "text": [
      "What is the height of your wall?6\n",
      "What is the width of your wall?4\n",
      "You'll need 5 cans of paint\n"
     ]
    }
   ],
   "source": [
    "# Write your code below this line 👇\n",
    "import math\n",
    "def paint_calc(height, width, coverage):\n",
    "    number_of_cans = (height*width)/coverage\n",
    "    rounded_cans = round(number_of_cans)\n",
    "    print(f\"You'll need {rounded_cans} cans of paint\")\n",
    "     \n",
    "\n",
    "test_h = int(input(\"What is the height of your wall?\")) # Height of wall (m)\n",
    "test_w = int(input(\"What is the width of your wall?\")) # Width of wall (m)\n",
    "coverage = 5\n",
    "paint_calc(height=test_h, width=test_w, coverage=coverage)\n"
   ]
  },
  {
   "cell_type": "markdown",
   "id": "c6e534b2",
   "metadata": {},
   "source": [
    "## Prime number checker"
   ]
  },
  {
   "cell_type": "code",
   "execution_count": 40,
   "id": "53cd82f7",
   "metadata": {},
   "outputs": [],
   "source": [
    "def prime_number_checker(number):\n",
    "    is_prime = True\n",
    "    for i in range(2, number):\n",
    "        if number % i == 0:\n",
    "            is_prime = False\n",
    "    if is_prime:\n",
    "        print(\"It's a prime number.\")\n",
    "    else:\n",
    "        print(\"It's not a prime number.\")\n",
    "    \n",
    "    "
   ]
  },
  {
   "cell_type": "code",
   "execution_count": 41,
   "id": "927827ec",
   "metadata": {},
   "outputs": [
    {
     "name": "stdout",
     "output_type": "stream",
     "text": [
      "It's a prime number.\n"
     ]
    }
   ],
   "source": [
    "prime_number_checker(67)"
   ]
  },
  {
   "cell_type": "code",
   "execution_count": 43,
   "id": "4bc51303",
   "metadata": {},
   "outputs": [
    {
     "data": {
      "text/plain": [
       "2"
      ]
     },
     "execution_count": 43,
     "metadata": {},
     "output_type": "execute_result"
    }
   ],
   "source": [
    "fruits = ['apple', 'banana', 'cherry']\n",
    "\n",
    "x = fruits.index(\"cherry\")\n",
    "x"
   ]
  },
  {
   "cell_type": "code",
   "execution_count": 52,
   "id": "69647932",
   "metadata": {},
   "outputs": [
    {
     "name": "stdout",
     "output_type": "stream",
     "text": [
      "12\n",
      "4\n"
     ]
    }
   ],
   "source": [
    "alphabet = ['a', 'b', 'c', 'd', 'e', 'f', 'g', 'h', 'i', 'j', 'k', 'l', 'm', 'n', 'o', 'p', 'q', 'r', 's', 't', 'u', 'v', 'w', 'x', 'y', 'z']\n",
    "text = \"me\"\n",
    "for i in text:\n",
    "    x = alphabet.index(i)\n",
    "    print(x)"
   ]
  },
  {
   "cell_type": "markdown",
   "id": "5c7320e2",
   "metadata": {},
   "source": [
    "##  Ceaser - Cipher"
   ]
  },
  {
   "cell_type": "code",
   "execution_count": 66,
   "id": "eb9fae38",
   "metadata": {},
   "outputs": [
    {
     "name": "stdout",
     "output_type": "stream",
     "text": [
      "Type 'encode' to encrypt, type 'decode' to decrypt:\n",
      "encode\n",
      "Type your message:\n",
      "babe\n",
      "Type the shift number:\n",
      "5\n",
      "Here's the encoded result: gfgj\n",
      "Type 'yes' if you want to go again. Otherwise type 'no'.\n",
      "yes\n",
      "Type 'encode' to encrypt, type 'decode' to decrypt:\n",
      "gfgj\n",
      "Type your message:\n",
      "gfgj\n",
      "Type the shift number:\n",
      "5\n",
      "Here's the gfgjd result: lklo\n",
      "Type 'yes' if you want to go again. Otherwise type 'no'.\n",
      "no\n",
      "Goodbye\n"
     ]
    }
   ],
   "source": [
    "alphabet = ['a', 'b', 'c', 'd', 'e', 'f', 'g', 'h', 'i', 'j', 'k', 'l', 'm', 'n', 'o', 'p', 'q', 'r', 's', 't', 'u', 'v', 'w', 'x', 'y', 'z', 'a', 'b', 'c', 'd', 'e', 'f', 'g', 'h', 'i', 'j', 'k', 'l', 'm', 'n', 'o', 'p', 'q', 'r', 's', 't', 'u', 'v', 'w', 'x', 'y', 'z']\n",
    "\n",
    "def caesar(start_text, shift_amount, cipher_direction):\n",
    "    end_text = \"\"\n",
    "    if cipher_direction == \"decode\":\n",
    "        shift_amount *= -1\n",
    "    for char in start_text:\n",
    "        if char in alphabet:\n",
    "            position = alphabet.index(char)\n",
    "            new_position = position + shift_amount\n",
    "            end_text += alphabet[new_position]\n",
    "        else:\n",
    "            end_text += char\n",
    "    print(f\"Here's the {cipher_direction}d result: {end_text}\")\n",
    "\n",
    "#TODO-4: Can you figure out a way to ask the user if they want to restart the cipher program?\n",
    "#e.g. Type 'yes' if you want to go again. Otherwise type 'no'.\n",
    "#If they type 'yes' then ask them for the direction/text/shift again and call the caesar() function again?\n",
    "#Hint: Try creating a while loop that continues to execute the program if the user types 'yes'.\n",
    "should_end = False\n",
    "\n",
    "while not should_end:\n",
    "    direction = input(\"Type 'encode' to encrypt, type 'decode' to decrypt:\\n\")\n",
    "    text = input(\"Type your message:\\n\").lower()\n",
    "    shift = int(input(\"Type the shift number:\\n\"))\n",
    "    shift = shift % 26\n",
    "    caesar(start_text=text, shift_amount=shift, cipher_direction=direction)\n",
    "    restart = input(\"Type 'yes' if you want to go again. Otherwise type 'no'.\\n\")\n",
    "    if restart == \"no\":\n",
    "        should_end = True\n",
    "        print(\"Goodbye\")"
   ]
  }
 ],
 "metadata": {
  "kernelspec": {
   "display_name": "Python 3 (ipykernel)",
   "language": "python",
   "name": "python3"
  },
  "language_info": {
   "codemirror_mode": {
    "name": "ipython",
    "version": 3
   },
   "file_extension": ".py",
   "mimetype": "text/x-python",
   "name": "python",
   "nbconvert_exporter": "python",
   "pygments_lexer": "ipython3",
   "version": "3.11.5"
  }
 },
 "nbformat": 4,
 "nbformat_minor": 5
}
